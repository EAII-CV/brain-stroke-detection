{
 "cells": [
  {
   "cell_type": "code",
   "execution_count": null,
   "metadata": {},
   "outputs": [],
   "source": [
    "#for single slice visualization\n",
    "\n",
    "import nibabel as nib\n",
    "import glob\n",
    "import numpy as np\n",
    "import matplotlib.pyplot as plt\n",
    "import matplotlib\n",
    "i = '/home/rdadmin/Desktop/Stroke/classification/niiLDV450/Ischemic/8683_12.nii'\n",
    "x = nib.load(i).get_fdata()\n",
    "x=np.squeeze(x,-2)\n",
    "print(x.shape)\n",
    "x= np.rot90(x,-1)\n",
    "x = (x - np.min(x))/ (np.max(x) - np.min(x))\n",
    "test = x[:,:,26]\n",
    "plt.imshow(test, cmap = 'gray', vmin = 0, vmax=1)\n",
    "plt.show()"
   ]
  },
  {
   "cell_type": "code",
   "execution_count": null,
   "metadata": {},
   "outputs": [],
   "source": [
    "#t0 visualize multiple slices from a single .nii image\n",
    "\n",
    "import nibabel as nib\n",
    "import glob\n",
    "import numpy as np\n",
    "import matplotlib.pyplot as plt\n",
    "import matplotlib\n",
    "i = '/home/rdadmin/Desktop/Stroke/classification/niiLDV450/Ischemic/8683_12.nii'\n",
    "x = nib.load(i).get_fdata()\n",
    "x=np.squeeze(x,-2)\n",
    "print(x.shape)\n",
    "x = np.rot90(x,-1)\n",
    "x = (x - np.min(x))/ (np.max(x) - np.min(x))\n",
    "\n",
    "for i in range(45):\n",
    "    plt.subplot(10,5,i+1)\n",
    "    plt.imshow(x[:,:,5+i])\n",
    "    plt.gcf().set_size_inches(10,10)\n",
    "    plt.show()"
   ]
  }
 ],
 "metadata": {
  "language_info": {
   "name": "python"
  },
  "orig_nbformat": 4
 },
 "nbformat": 4,
 "nbformat_minor": 2
}
