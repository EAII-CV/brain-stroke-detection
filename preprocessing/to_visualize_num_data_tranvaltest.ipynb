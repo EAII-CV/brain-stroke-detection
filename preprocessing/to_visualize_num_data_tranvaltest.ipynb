{
 "cells": [
  {
   "cell_type": "code",
   "execution_count": null,
   "metadata": {},
   "outputs": [],
   "source": [
    "import os\n",
    "from sklearn.model_selection import train_test_split\n",
    "\n",
    "# Replace these paths with the actual paths to your image folders\n",
    "class_folders =  ['/home/rdadmin/Desktop/Stroke/classification/niiLDV450/Hemorrhagic','/home/rdadmin/Desktop/Stroke/classification/niiLDV450/Ischemic/', '/home/rdadmin/Desktop/Stroke/classification/niiLDV450/Nonstrokeabnormal/']\n",
    "class_names = ['Hemorrhagic', 'Ischemic', 'Nonstrokeabnormal']\n",
    "\n",
    "# Lists to store image paths for each class\n",
    "image_paths_by_class = [[] for _ in class_folders]\n",
    "\n",
    "# Collect image paths for each class\n",
    "for idx, folder in enumerate(class_folders):\n",
    "    image_paths = [os.path.join(folder, filename) for filename in os.listdir(folder)]\n",
    "    image_paths_by_class[idx] = image_paths\n",
    "\n",
    "# Split image paths into train, validation, and test sets\n",
    "train_val_paths, test_paths = [], []\n",
    "for paths in image_paths_by_class:\n",
    "    train_paths, test_paths_single_class = train_test_split(paths, test_size=0.2, random_state=42)\n",
    "    train_val_paths.extend(train_paths)\n",
    "    test_paths.extend(test_paths_single_class)\n",
    "\n",
    "train_paths, val_paths = train_test_split(train_val_paths, test_size=0.2, random_state=42)\n",
    "\n",
    "# Print statistics and example paths\n",
    "for idx, class_name in enumerate(class_names):\n",
    "    print(f\"Class: {class_name}\")\n",
    "    print(f\"Number of images: {len(image_paths_by_class[idx])}\")\n",
    "    print(f\"Training images: {sum([1 for path in train_paths if class_name in path])}\")\n",
    "    print(f\"Validation images: {sum([1 for path in val_paths if class_name in path])}\")\n",
    "    print(f\"Test images: {sum([1 for path in test_paths if class_name in path])}\")\n",
    "\n",
    "# Print example paths for the first class\n",
    "class_index = 0\n",
    "print(\"\\nExample paths for class:\", class_names[class_index])\n",
    "for path in train_paths:\n",
    "    if class_names[class_index] in path:\n",
    "        print(path)\n",
    "        "
   ]
  }
 ],
 "metadata": {
  "language_info": {
   "name": "python"
  },
  "orig_nbformat": 4
 },
 "nbformat": 4,
 "nbformat_minor": 2
}
