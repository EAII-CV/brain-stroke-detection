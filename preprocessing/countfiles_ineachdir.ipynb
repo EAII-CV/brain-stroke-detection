{
 "cells": [
  {
   "cell_type": "code",
   "execution_count": null,
   "metadata": {},
   "outputs": [
    {
     "ename": "",
     "evalue": "",
     "output_type": "error",
     "traceback": [
      "\u001b[1;31mRunning cells with 'c:\\Users\\Admin\\anaconda3\\envs\\python36-env\\python.exe' requires the ipykernel package.\n",
      "\u001b[1;31mRun the following command to install 'ipykernel' into the Python environment. \n",
      "\u001b[1;31mCommand: 'conda install -p c:\\Users\\Admin\\anaconda3\\envs\\python36-env ipykernel --update-deps --force-reinstall'"
     ]
    }
   ],
   "source": [
    "import os\n",
    "\n",
    "file_path = 'D:/EAII/edited50BSLDV4/'\n",
    "N = 0  # total files\n",
    "for dirpath, dirnames, filenames in os.walk(file_path):\n",
    "    N_c = len(filenames)\n",
    "    N += N_c\n",
    "    print (\"Files in \", dirpath, N_c)\n",
    "print (\"Total Files\",N)\n",
    "\n"
   ]
  }
 ],
 "metadata": {
  "kernelspec": {
   "display_name": "base",
   "language": "python",
   "name": "python3"
  },
  "language_info": {
   "codemirror_mode": {
    "name": "ipython",
    "version": 3
   },
   "file_extension": ".py",
   "mimetype": "text/x-python",
   "name": "python",
   "nbconvert_exporter": "python",
   "pygments_lexer": "ipython3",
   "version": "3.7.16"
  },
  "orig_nbformat": 4
 },
 "nbformat": 4,
 "nbformat_minor": 2
}
